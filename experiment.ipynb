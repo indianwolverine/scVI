{
 "cells": [
  {
   "cell_type": "code",
   "execution_count": null,
   "metadata": {
    "collapsed": true
   },
   "outputs": [],
   "source": [
    "from scvi.dataset import CortexDataset, CortexDatasetCustom\n",
    "from scvi.models import SVAEC, UVAE\n",
    "from scvi.inference import JointSemiSupervisedVariationalInference, JointSemiSupervisedVariationalInferenceUncertain\n"
   ]
  },
  {
   "cell_type": "code",
   "execution_count": null,
   "metadata": {},
   "outputs": [],
   "source": [
    "gene_dataset = CortexDatasetCustom(corruption_probabilities=[0.1, 0.4], additional_genes=100)\n",
    "use_batches=False\n",
    "use_cuda=True"
   ]
  },
  {
   "cell_type": "code",
   "execution_count": null,
   "metadata": {},
   "outputs": [],
   "source": [
    "infer = JointSemiSupervisedVariationalInference(uvae, new_gene_dataset, n_labelled_samples_per_class=10)\n",
    "infer.train(n_epochs=1, lr=0)\n",
    "print(infer.accuracy('unlabelled'))\n",
    "infer.show_t_sne('unlabelled', color_by='labels', save_name='checkpoint.png')"
   ]
  },
  {
   "cell_type": "code",
   "execution_count": null,
   "metadata": {},
   "outputs": [],
   "source": [
    "svaec = SVAEC(gene_dataset.nb_genes, gene_dataset.n_batches, gene_dataset.n_labels)\n",
    "infer = JointSemiSupervisedVariationalInference(svaec, gene_dataset, n_labelled_samples_per_class=10)\n",
    "infer.train(n_epochs=150)\n",
    "print(infer.accuracy('unlabelled'))"
   ]
  },
  {
   "cell_type": "code",
   "execution_count": null,
   "metadata": {},
   "outputs": [],
   "source": [
    "uvae = UVAE(gene_dataset.nb_genes, gene_dataset.n_batches, gene_dataset.n_labels)\n",
    "infer = JointSemiSupervisedVariationalInferenceUncertain(uvae, gene_dataset, n_labelled_samples_per_class=10, classification_ratio=[10, 2])\n",
    "infer.train(n_epochs=150)\n",
    "print(infer.accuracy('unlabelled'))"
   ]
  },
  {
   "cell_type": "code",
   "execution_count": null,
   "metadata": {},
   "outputs": [],
   "source": [
    "new_gene_dataset = CortexDatasetCustom(corruption_probabilities=[0, 0], additional_genes=100)"
   ]
  },
  {
   "cell_type": "code",
   "execution_count": null,
   "metadata": {},
   "outputs": [],
   "source": [
    "infer = JointSemiSupervisedVariationalInference(svaec, new_gene_dataset, n_labelled_samples_per_class=10)\n",
    "infer.train(n_epochs=1, lr=0)\n",
    "print(infer.accuracy('unlabelled'))\n",
    "infer.show_t_sne('unlabelled', color_by='labels', save_name='checkpoint.png')"
   ]
  }
 ],
 "metadata": {
  "kernelspec": {
   "display_name": "Python 2",
   "language": "python",
   "name": "python2"
  },
  "language_info": {
   "codemirror_mode": {
    "name": "ipython",
    "version": 2
   },
   "file_extension": ".py",
   "mimetype": "text/x-python",
   "name": "python",
   "nbconvert_exporter": "python",
   "pygments_lexer": "ipython2",
   "version": "2.7.6"
  }
 },
 "nbformat": 4,
 "nbformat_minor": 0
}
